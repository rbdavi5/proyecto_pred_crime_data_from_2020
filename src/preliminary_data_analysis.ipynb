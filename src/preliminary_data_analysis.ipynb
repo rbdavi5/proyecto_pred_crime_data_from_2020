{
 "cells": [
  {
   "cell_type": "markdown",
   "metadata": {},
   "source": [
    "# Setup\n",
    "\n",
    "Al iniciar un nuevo repositorio debemos trabajar con un environment dedicado o genérico, con una serie de librerías que debemos conocer correctamente.\n",
    "\n",
    "En este caso, dejaré el requirements para que trabajemos todos con la misma versión.\n",
    "\n",
    "Ahora, despacito y buena letra:"
   ]
  },
  {
   "cell_type": "code",
   "execution_count": 5,
   "metadata": {},
   "outputs": [],
   "source": [
    "import pandas as pd\n",
    "import numpy as np\n",
    "import matplotlib.pyplot as plt\n",
    "import seaborn as sns\n",
    "\n",
    "pd.set_option('display.max_columns', None)\n",
    "pd.set_option('display.max_rows', 100)\n",
    "\n",
    "# disable seaborn warnings\n",
    "# import warnings\n",
    "# warnings.filterwarnings(\"ignore\")"
   ]
  },
  {
   "cell_type": "code",
   "execution_count": 6,
   "metadata": {},
   "outputs": [
    {
     "data": {
      "text/plain": [
       "'c:\\\\Users\\\\datalab\\\\AppData\\\\Local\\\\Programs\\\\Microsoft VS Code'"
      ]
     },
     "execution_count": 6,
     "metadata": {},
     "output_type": "execute_result"
    }
   ],
   "source": [
    "import os\n",
    "\n",
    "os.getcwd()"
   ]
  },
  {
   "cell_type": "code",
   "execution_count": 9,
   "metadata": {},
   "outputs": [
    {
     "data": {
      "text/plain": [
       "'c:\\\\Users\\\\datalab\\\\AppData\\\\Local\\\\Programs\\\\Microsoft VS Code'"
      ]
     },
     "execution_count": 9,
     "metadata": {},
     "output_type": "execute_result"
    }
   ],
   "source": [
    "import os\n",
    "os.getcwd()"
   ]
  },
  {
   "cell_type": "code",
   "execution_count": 8,
   "metadata": {},
   "outputs": [
    {
     "ename": "FileNotFoundError",
     "evalue": "[Errno 2] No such file or directory: '..\\\\data\\\\Crime_Data_from_2020_to_Present.csv'",
     "output_type": "error",
     "traceback": [
      "\u001b[1;31m---------------------------------------------------------------------------\u001b[0m",
      "\u001b[1;31mFileNotFoundError\u001b[0m                         Traceback (most recent call last)",
      "Cell \u001b[1;32mIn[8], line 1\u001b[0m\n\u001b[1;32m----> 1\u001b[0m df_base \u001b[38;5;241m=\u001b[39m \u001b[43mpd\u001b[49m\u001b[38;5;241;43m.\u001b[39;49m\u001b[43mread_csv\u001b[49m\u001b[43m(\u001b[49m\u001b[38;5;124;43m'\u001b[39;49m\u001b[38;5;124;43m..\u001b[39;49m\u001b[38;5;124;43m\\\u001b[39;49m\u001b[38;5;124;43mdata\u001b[39;49m\u001b[38;5;124;43m\\\u001b[39;49m\u001b[38;5;124;43mCrime_Data_from_2020_to_Present.csv\u001b[39;49m\u001b[38;5;124;43m'\u001b[39;49m\u001b[43m)\u001b[49m\n",
      "File \u001b[1;32mc:\\Users\\datalab\\miniconda3\\envs\\env_ml\\Lib\\site-packages\\pandas\\io\\parsers\\readers.py:1026\u001b[0m, in \u001b[0;36mread_csv\u001b[1;34m(filepath_or_buffer, sep, delimiter, header, names, index_col, usecols, dtype, engine, converters, true_values, false_values, skipinitialspace, skiprows, skipfooter, nrows, na_values, keep_default_na, na_filter, verbose, skip_blank_lines, parse_dates, infer_datetime_format, keep_date_col, date_parser, date_format, dayfirst, cache_dates, iterator, chunksize, compression, thousands, decimal, lineterminator, quotechar, quoting, doublequote, escapechar, comment, encoding, encoding_errors, dialect, on_bad_lines, delim_whitespace, low_memory, memory_map, float_precision, storage_options, dtype_backend)\u001b[0m\n\u001b[0;32m   1013\u001b[0m kwds_defaults \u001b[38;5;241m=\u001b[39m _refine_defaults_read(\n\u001b[0;32m   1014\u001b[0m     dialect,\n\u001b[0;32m   1015\u001b[0m     delimiter,\n\u001b[1;32m   (...)\u001b[0m\n\u001b[0;32m   1022\u001b[0m     dtype_backend\u001b[38;5;241m=\u001b[39mdtype_backend,\n\u001b[0;32m   1023\u001b[0m )\n\u001b[0;32m   1024\u001b[0m kwds\u001b[38;5;241m.\u001b[39mupdate(kwds_defaults)\n\u001b[1;32m-> 1026\u001b[0m \u001b[38;5;28;01mreturn\u001b[39;00m \u001b[43m_read\u001b[49m\u001b[43m(\u001b[49m\u001b[43mfilepath_or_buffer\u001b[49m\u001b[43m,\u001b[49m\u001b[43m \u001b[49m\u001b[43mkwds\u001b[49m\u001b[43m)\u001b[49m\n",
      "File \u001b[1;32mc:\\Users\\datalab\\miniconda3\\envs\\env_ml\\Lib\\site-packages\\pandas\\io\\parsers\\readers.py:620\u001b[0m, in \u001b[0;36m_read\u001b[1;34m(filepath_or_buffer, kwds)\u001b[0m\n\u001b[0;32m    617\u001b[0m _validate_names(kwds\u001b[38;5;241m.\u001b[39mget(\u001b[38;5;124m\"\u001b[39m\u001b[38;5;124mnames\u001b[39m\u001b[38;5;124m\"\u001b[39m, \u001b[38;5;28;01mNone\u001b[39;00m))\n\u001b[0;32m    619\u001b[0m \u001b[38;5;66;03m# Create the parser.\u001b[39;00m\n\u001b[1;32m--> 620\u001b[0m parser \u001b[38;5;241m=\u001b[39m \u001b[43mTextFileReader\u001b[49m\u001b[43m(\u001b[49m\u001b[43mfilepath_or_buffer\u001b[49m\u001b[43m,\u001b[49m\u001b[43m \u001b[49m\u001b[38;5;241;43m*\u001b[39;49m\u001b[38;5;241;43m*\u001b[39;49m\u001b[43mkwds\u001b[49m\u001b[43m)\u001b[49m\n\u001b[0;32m    622\u001b[0m \u001b[38;5;28;01mif\u001b[39;00m chunksize \u001b[38;5;129;01mor\u001b[39;00m iterator:\n\u001b[0;32m    623\u001b[0m     \u001b[38;5;28;01mreturn\u001b[39;00m parser\n",
      "File \u001b[1;32mc:\\Users\\datalab\\miniconda3\\envs\\env_ml\\Lib\\site-packages\\pandas\\io\\parsers\\readers.py:1620\u001b[0m, in \u001b[0;36mTextFileReader.__init__\u001b[1;34m(self, f, engine, **kwds)\u001b[0m\n\u001b[0;32m   1617\u001b[0m     \u001b[38;5;28mself\u001b[39m\u001b[38;5;241m.\u001b[39moptions[\u001b[38;5;124m\"\u001b[39m\u001b[38;5;124mhas_index_names\u001b[39m\u001b[38;5;124m\"\u001b[39m] \u001b[38;5;241m=\u001b[39m kwds[\u001b[38;5;124m\"\u001b[39m\u001b[38;5;124mhas_index_names\u001b[39m\u001b[38;5;124m\"\u001b[39m]\n\u001b[0;32m   1619\u001b[0m \u001b[38;5;28mself\u001b[39m\u001b[38;5;241m.\u001b[39mhandles: IOHandles \u001b[38;5;241m|\u001b[39m \u001b[38;5;28;01mNone\u001b[39;00m \u001b[38;5;241m=\u001b[39m \u001b[38;5;28;01mNone\u001b[39;00m\n\u001b[1;32m-> 1620\u001b[0m \u001b[38;5;28mself\u001b[39m\u001b[38;5;241m.\u001b[39m_engine \u001b[38;5;241m=\u001b[39m \u001b[38;5;28;43mself\u001b[39;49m\u001b[38;5;241;43m.\u001b[39;49m\u001b[43m_make_engine\u001b[49m\u001b[43m(\u001b[49m\u001b[43mf\u001b[49m\u001b[43m,\u001b[49m\u001b[43m \u001b[49m\u001b[38;5;28;43mself\u001b[39;49m\u001b[38;5;241;43m.\u001b[39;49m\u001b[43mengine\u001b[49m\u001b[43m)\u001b[49m\n",
      "File \u001b[1;32mc:\\Users\\datalab\\miniconda3\\envs\\env_ml\\Lib\\site-packages\\pandas\\io\\parsers\\readers.py:1880\u001b[0m, in \u001b[0;36mTextFileReader._make_engine\u001b[1;34m(self, f, engine)\u001b[0m\n\u001b[0;32m   1878\u001b[0m     \u001b[38;5;28;01mif\u001b[39;00m \u001b[38;5;124m\"\u001b[39m\u001b[38;5;124mb\u001b[39m\u001b[38;5;124m\"\u001b[39m \u001b[38;5;129;01mnot\u001b[39;00m \u001b[38;5;129;01min\u001b[39;00m mode:\n\u001b[0;32m   1879\u001b[0m         mode \u001b[38;5;241m+\u001b[39m\u001b[38;5;241m=\u001b[39m \u001b[38;5;124m\"\u001b[39m\u001b[38;5;124mb\u001b[39m\u001b[38;5;124m\"\u001b[39m\n\u001b[1;32m-> 1880\u001b[0m \u001b[38;5;28mself\u001b[39m\u001b[38;5;241m.\u001b[39mhandles \u001b[38;5;241m=\u001b[39m \u001b[43mget_handle\u001b[49m\u001b[43m(\u001b[49m\n\u001b[0;32m   1881\u001b[0m \u001b[43m    \u001b[49m\u001b[43mf\u001b[49m\u001b[43m,\u001b[49m\n\u001b[0;32m   1882\u001b[0m \u001b[43m    \u001b[49m\u001b[43mmode\u001b[49m\u001b[43m,\u001b[49m\n\u001b[0;32m   1883\u001b[0m \u001b[43m    \u001b[49m\u001b[43mencoding\u001b[49m\u001b[38;5;241;43m=\u001b[39;49m\u001b[38;5;28;43mself\u001b[39;49m\u001b[38;5;241;43m.\u001b[39;49m\u001b[43moptions\u001b[49m\u001b[38;5;241;43m.\u001b[39;49m\u001b[43mget\u001b[49m\u001b[43m(\u001b[49m\u001b[38;5;124;43m\"\u001b[39;49m\u001b[38;5;124;43mencoding\u001b[39;49m\u001b[38;5;124;43m\"\u001b[39;49m\u001b[43m,\u001b[49m\u001b[43m \u001b[49m\u001b[38;5;28;43;01mNone\u001b[39;49;00m\u001b[43m)\u001b[49m\u001b[43m,\u001b[49m\n\u001b[0;32m   1884\u001b[0m \u001b[43m    \u001b[49m\u001b[43mcompression\u001b[49m\u001b[38;5;241;43m=\u001b[39;49m\u001b[38;5;28;43mself\u001b[39;49m\u001b[38;5;241;43m.\u001b[39;49m\u001b[43moptions\u001b[49m\u001b[38;5;241;43m.\u001b[39;49m\u001b[43mget\u001b[49m\u001b[43m(\u001b[49m\u001b[38;5;124;43m\"\u001b[39;49m\u001b[38;5;124;43mcompression\u001b[39;49m\u001b[38;5;124;43m\"\u001b[39;49m\u001b[43m,\u001b[49m\u001b[43m \u001b[49m\u001b[38;5;28;43;01mNone\u001b[39;49;00m\u001b[43m)\u001b[49m\u001b[43m,\u001b[49m\n\u001b[0;32m   1885\u001b[0m \u001b[43m    \u001b[49m\u001b[43mmemory_map\u001b[49m\u001b[38;5;241;43m=\u001b[39;49m\u001b[38;5;28;43mself\u001b[39;49m\u001b[38;5;241;43m.\u001b[39;49m\u001b[43moptions\u001b[49m\u001b[38;5;241;43m.\u001b[39;49m\u001b[43mget\u001b[49m\u001b[43m(\u001b[49m\u001b[38;5;124;43m\"\u001b[39;49m\u001b[38;5;124;43mmemory_map\u001b[39;49m\u001b[38;5;124;43m\"\u001b[39;49m\u001b[43m,\u001b[49m\u001b[43m \u001b[49m\u001b[38;5;28;43;01mFalse\u001b[39;49;00m\u001b[43m)\u001b[49m\u001b[43m,\u001b[49m\n\u001b[0;32m   1886\u001b[0m \u001b[43m    \u001b[49m\u001b[43mis_text\u001b[49m\u001b[38;5;241;43m=\u001b[39;49m\u001b[43mis_text\u001b[49m\u001b[43m,\u001b[49m\n\u001b[0;32m   1887\u001b[0m \u001b[43m    \u001b[49m\u001b[43merrors\u001b[49m\u001b[38;5;241;43m=\u001b[39;49m\u001b[38;5;28;43mself\u001b[39;49m\u001b[38;5;241;43m.\u001b[39;49m\u001b[43moptions\u001b[49m\u001b[38;5;241;43m.\u001b[39;49m\u001b[43mget\u001b[49m\u001b[43m(\u001b[49m\u001b[38;5;124;43m\"\u001b[39;49m\u001b[38;5;124;43mencoding_errors\u001b[39;49m\u001b[38;5;124;43m\"\u001b[39;49m\u001b[43m,\u001b[49m\u001b[43m \u001b[49m\u001b[38;5;124;43m\"\u001b[39;49m\u001b[38;5;124;43mstrict\u001b[39;49m\u001b[38;5;124;43m\"\u001b[39;49m\u001b[43m)\u001b[49m\u001b[43m,\u001b[49m\n\u001b[0;32m   1888\u001b[0m \u001b[43m    \u001b[49m\u001b[43mstorage_options\u001b[49m\u001b[38;5;241;43m=\u001b[39;49m\u001b[38;5;28;43mself\u001b[39;49m\u001b[38;5;241;43m.\u001b[39;49m\u001b[43moptions\u001b[49m\u001b[38;5;241;43m.\u001b[39;49m\u001b[43mget\u001b[49m\u001b[43m(\u001b[49m\u001b[38;5;124;43m\"\u001b[39;49m\u001b[38;5;124;43mstorage_options\u001b[39;49m\u001b[38;5;124;43m\"\u001b[39;49m\u001b[43m,\u001b[49m\u001b[43m \u001b[49m\u001b[38;5;28;43;01mNone\u001b[39;49;00m\u001b[43m)\u001b[49m\u001b[43m,\u001b[49m\n\u001b[0;32m   1889\u001b[0m \u001b[43m\u001b[49m\u001b[43m)\u001b[49m\n\u001b[0;32m   1890\u001b[0m \u001b[38;5;28;01massert\u001b[39;00m \u001b[38;5;28mself\u001b[39m\u001b[38;5;241m.\u001b[39mhandles \u001b[38;5;129;01mis\u001b[39;00m \u001b[38;5;129;01mnot\u001b[39;00m \u001b[38;5;28;01mNone\u001b[39;00m\n\u001b[0;32m   1891\u001b[0m f \u001b[38;5;241m=\u001b[39m \u001b[38;5;28mself\u001b[39m\u001b[38;5;241m.\u001b[39mhandles\u001b[38;5;241m.\u001b[39mhandle\n",
      "File \u001b[1;32mc:\\Users\\datalab\\miniconda3\\envs\\env_ml\\Lib\\site-packages\\pandas\\io\\common.py:873\u001b[0m, in \u001b[0;36mget_handle\u001b[1;34m(path_or_buf, mode, encoding, compression, memory_map, is_text, errors, storage_options)\u001b[0m\n\u001b[0;32m    868\u001b[0m \u001b[38;5;28;01melif\u001b[39;00m \u001b[38;5;28misinstance\u001b[39m(handle, \u001b[38;5;28mstr\u001b[39m):\n\u001b[0;32m    869\u001b[0m     \u001b[38;5;66;03m# Check whether the filename is to be opened in binary mode.\u001b[39;00m\n\u001b[0;32m    870\u001b[0m     \u001b[38;5;66;03m# Binary mode does not support 'encoding' and 'newline'.\u001b[39;00m\n\u001b[0;32m    871\u001b[0m     \u001b[38;5;28;01mif\u001b[39;00m ioargs\u001b[38;5;241m.\u001b[39mencoding \u001b[38;5;129;01mand\u001b[39;00m \u001b[38;5;124m\"\u001b[39m\u001b[38;5;124mb\u001b[39m\u001b[38;5;124m\"\u001b[39m \u001b[38;5;129;01mnot\u001b[39;00m \u001b[38;5;129;01min\u001b[39;00m ioargs\u001b[38;5;241m.\u001b[39mmode:\n\u001b[0;32m    872\u001b[0m         \u001b[38;5;66;03m# Encoding\u001b[39;00m\n\u001b[1;32m--> 873\u001b[0m         handle \u001b[38;5;241m=\u001b[39m \u001b[38;5;28;43mopen\u001b[39;49m\u001b[43m(\u001b[49m\n\u001b[0;32m    874\u001b[0m \u001b[43m            \u001b[49m\u001b[43mhandle\u001b[49m\u001b[43m,\u001b[49m\n\u001b[0;32m    875\u001b[0m \u001b[43m            \u001b[49m\u001b[43mioargs\u001b[49m\u001b[38;5;241;43m.\u001b[39;49m\u001b[43mmode\u001b[49m\u001b[43m,\u001b[49m\n\u001b[0;32m    876\u001b[0m \u001b[43m            \u001b[49m\u001b[43mencoding\u001b[49m\u001b[38;5;241;43m=\u001b[39;49m\u001b[43mioargs\u001b[49m\u001b[38;5;241;43m.\u001b[39;49m\u001b[43mencoding\u001b[49m\u001b[43m,\u001b[49m\n\u001b[0;32m    877\u001b[0m \u001b[43m            \u001b[49m\u001b[43merrors\u001b[49m\u001b[38;5;241;43m=\u001b[39;49m\u001b[43merrors\u001b[49m\u001b[43m,\u001b[49m\n\u001b[0;32m    878\u001b[0m \u001b[43m            \u001b[49m\u001b[43mnewline\u001b[49m\u001b[38;5;241;43m=\u001b[39;49m\u001b[38;5;124;43m\"\u001b[39;49m\u001b[38;5;124;43m\"\u001b[39;49m\u001b[43m,\u001b[49m\n\u001b[0;32m    879\u001b[0m \u001b[43m        \u001b[49m\u001b[43m)\u001b[49m\n\u001b[0;32m    880\u001b[0m     \u001b[38;5;28;01melse\u001b[39;00m:\n\u001b[0;32m    881\u001b[0m         \u001b[38;5;66;03m# Binary mode\u001b[39;00m\n\u001b[0;32m    882\u001b[0m         handle \u001b[38;5;241m=\u001b[39m \u001b[38;5;28mopen\u001b[39m(handle, ioargs\u001b[38;5;241m.\u001b[39mmode)\n",
      "\u001b[1;31mFileNotFoundError\u001b[0m: [Errno 2] No such file or directory: '..\\\\data\\\\Crime_Data_from_2020_to_Present.csv'"
     ]
    }
   ],
   "source": [
    "df_base = pd.read_csv('..\\data\\Crime_Data_from_2020_to_Present.csv')"
   ]
  },
  {
   "cell_type": "code",
   "execution_count": null,
   "metadata": {},
   "outputs": [],
   "source": [
    "df_base.shape"
   ]
  },
  {
   "cell_type": "code",
   "execution_count": null,
   "metadata": {},
   "outputs": [],
   "source": [
    "df_base.head()"
   ]
  },
  {
   "cell_type": "code",
   "execution_count": null,
   "metadata": {},
   "outputs": [],
   "source": [
    "\"\"\"\"\n",
    "\n",
    "Lo primero que debemos hacer es identificar las variables más importantes para nuestro análisis. En este caso, podríamos centrarnos en diferentes perspectivas, como la temporal, \n",
    "la geográfica o la tipológica. También podríamos querer hacer un análisis de cuales son los agentes de polícia que más intervienen en los crímenes, o cuales son los crímenes más comunes\n",
    "que ellos resuelven.\n",
    "\n",
    "En esta primera aproximación, vamos a centrarnos en las variables temporales y geográficas, ya que nos permitirán tener una visión general de la base de datos\n",
    "y de los crímenes que se cometen en Los Ángeles.\n",
    "\n",
    "Como podremos observar, la base de datos cuenta con 28 columnas, entre las cuales destacan principalmente el tipo de crimen -crime_type- y la fecha en la que se cometió -date_occ-.\n",
    "Otro valor relevante es el de la ubicación -location- o el del área en la que se cometió -area_name-.\n",
    "\"\"\"\n",
    "\n",
    "df_base.info()"
   ]
  },
  {
   "cell_type": "code",
   "execution_count": null,
   "metadata": {},
   "outputs": [],
   "source": [
    "df_base.describe(include=[np.number])"
   ]
  },
  {
   "cell_type": "code",
   "execution_count": null,
   "metadata": {},
   "outputs": [],
   "source": [
    "\"\"\"\n",
    "Vamos a estandarizar los nombres de variables para trabajar en un entorno más limpio y entendible.\n",
    "\"\"\"\n",
    "columns = df_base.columns\n",
    "columns = [column.lower() for column in columns]\n",
    "columns = [column.replace(' ', '_') for column in columns]\n",
    "df_base.columns = columns"
   ]
  },
  {
   "cell_type": "code",
   "execution_count": null,
   "metadata": {},
   "outputs": [],
   "source": [
    "\"\"\"\n",
    "A continuación, vamos a eliminar las observaciones que contienen valores nulos en las columnas que consideramos más relevantes para nuestro análisis.\n",
    "\"\"\"\n",
    "cols_pre_drop = df_base.shape[0]\n",
    "df_base = df_base.dropna(subset=['crm_cd_desc', 'date_occ', 'location', 'area_name'])\n",
    "cols_post_drop = df_base.shape[0]\n",
    "\n",
    "print(f'Número de observaciones eliminadas: {cols_pre_drop - cols_post_drop}')"
   ]
  },
  {
   "cell_type": "code",
   "execution_count": null,
   "metadata": {},
   "outputs": [],
   "source": [
    "\"\"\"\n",
    "Ahora vamos a ver cuales son los crímenes más comunes en Los Ángeles. Para ello, vamos a agrupar los datos por el tipo de crimen y a contar el número de observaciones que hay en cada grupo.\n",
    "\"\"\"\n",
    "\n",
    "df_base['crm_cd_desc'].value_counts()"
   ]
  },
  {
   "cell_type": "code",
   "execution_count": null,
   "metadata": {},
   "outputs": [],
   "source": [
    "\"\"\"\n",
    "Esta claro que esta froma de presentar los datos no es la más adecuada, ya que hay demasiados tipos de crímenes y no se pueden visualizar de forma clara. Por ello, vamos a seleccionar los 20 crímenes más comunes y a visualizarlos en un gráfico de barras.\n",
    "\"\"\"\n",
    "\n",
    "top_20_crimes = df_base['crm_cd_desc'].value_counts().head(20)\n",
    "plt.figure(figsize=(10, 6))\n",
    "\n",
    "sns.barplot(x=top_20_crimes.values, y=top_20_crimes.index, palette='coolwarm')\n",
    "plt.xlabel('Number of Crimes')\n",
    "plt.ylabel('Crime Type')\n",
    "plt.title('Top 20 Crimes')\n",
    "plt.show()"
   ]
  },
  {
   "cell_type": "code",
   "execution_count": null,
   "metadata": {},
   "outputs": [],
   "source": [
    "descent_code_dict = {\n",
    "    'A': 'Other Asian',\n",
    "    'B': 'Black',\n",
    "    'C': 'Chinese',\n",
    "    'D': 'Cambodian',\n",
    "    'F': 'Filipino',\n",
    "    'G': 'Guamanian',\n",
    "    'H': 'Hispanic/Latin/Mexican',\n",
    "    'I': 'American Indian/Alaskan Native',\n",
    "    'J': 'Japanese',\n",
    "    'K': 'Korean',\n",
    "    'L': 'Laotian',\n",
    "    'O': 'Other',\n",
    "    'P': 'Pacific Islander',\n",
    "    'S': 'Samoan',\n",
    "    'U': 'Hawaiian',\n",
    "    'V': 'Vietnamese',\n",
    "    'W': 'White',\n",
    "    'X': 'Unknown',\n",
    "    'Z': 'Asian Indian'\n",
    "}\n",
    "\n"
   ]
  },
  {
   "cell_type": "code",
   "execution_count": null,
   "metadata": {},
   "outputs": [],
   "source": [
    "\"\"\"\n",
    "Esto está bien para ver como se distribuye el número de crímenes en Los Ángeles de forma genérica, pero\n",
    "podemos ver el tipo de crimenes en función del origen de la víctima, por ejemplo.\n",
    "\"\"\"\n",
    "descent_code_dict = {\n",
    "    'A': 'Other Asian',\n",
    "    'B': 'Black',\n",
    "    'C': 'Chinese',\n",
    "    'D': 'Cambodian',\n",
    "    'F': 'Filipino',\n",
    "    'G': 'Guamanian',\n",
    "    'H': 'Hispanic/Latin/Mexican',\n",
    "    'I': 'American Indian/Alaskan Native',\n",
    "    'J': 'Japanese',\n",
    "    'K': 'Korean',\n",
    "    'L': 'Laotian',\n",
    "    'O': 'Other',\n",
    "    'P': 'Pacific Islander',\n",
    "    'S': 'Samoan',\n",
    "    'U': 'Hawaiian',\n",
    "    'V': 'Vietnamese',\n",
    "    'W': 'White',\n",
    "    'X': 'Unknown',\n",
    "    'Z': 'Asian Indian'\n",
    "}\n",
    "\n",
    "top_10_vict_descent = df_base['vict_descent'].map(descent_code_dict).value_counts().head(10).index\n",
    "\n",
    "for descent in top_10_vict_descent:\n",
    "    plt.figure(figsize=(15, 8))\n",
    "    top_crimes = df_base[df_base['vict_descent'].map(descent_code_dict) == descent]['crm_cd_desc'].value_counts().head(20).reset_index()\n",
    "    top_crimes.columns = ['crm_cd_desc', 'count']\n",
    "    sns.barplot(data=top_crimes, x='count', y='crm_cd_desc', hue='count', palette='coolwarm', dodge=False, legend=False)\n",
    "    plt.xlabel('Number of Crimes')\n",
    "    plt.ylabel('Crime Code 1')\n",
    "    plt.title(f'Top 20 Crimes for Victim Descent: {descent}')\n",
    "    plt.show()"
   ]
  },
  {
   "cell_type": "code",
   "execution_count": null,
   "metadata": {},
   "outputs": [],
   "source": [
    "\"\"\"Ahora, vamos a mostrar porcentualmente la diferencia de tipos de crimenes en\n",
    "funcion del origen de la victima con respecto al tipo de origen más numeroso en los angeles, el blanco.\"\"\"\n",
    "\n",
    "\n",
    "white_crimes = df_base[df_base['vict_descent'].map(descent_code_dict) == 'White']['crm_cd_desc'].value_counts(normalize=True).head(20)\n",
    "\n",
    "# Obtener los 5 tipos de vict_descent más numerosos\n",
    "top_5_vict_descent = df_base['vict_descent'].map(descent_code_dict).value_counts().head(5).index\n",
    "\n",
    "# Crear un DataFrame para almacenar las variaciones porcentuales\n",
    "variation_df = pd.DataFrame()\n",
    "\n",
    "# Calcular la variación para cada uno de los 5 tipos de vict_descent más numerosos\n",
    "for descent in top_5_vict_descent:\n",
    "    if descent != 'White':  # Omitir los hombres blancos\n",
    "        descent_crimes = df_base[df_base['vict_descent'].map(descent_code_dict) == descent]['crm_cd_desc'].value_counts(normalize=True).head(20)\n",
    "        common_crimes = white_crimes.index.intersection(descent_crimes.index)\n",
    "        descent_crimes = descent_crimes[common_crimes]\n",
    "        white_crimes_common = white_crimes[common_crimes]\n",
    "        variation = (descent_crimes - white_crimes_common) / white_crimes_common * 100\n",
    "        variation_df[descent] = variation\n",
    "\n",
    "# Crear gráficos de barras para cada tipo de vict_descent\n",
    "for descent in variation_df.columns:\n",
    "    plt.figure(figsize=(15, 8))\n",
    "    top_crimes = variation_df[descent].reset_index()\n",
    "    top_crimes.columns = ['crm_cd_desc', 'variation']\n",
    "    sns.barplot(data=top_crimes, x='variation', y='crm_cd_desc', hue='crm_cd_desc', palette='coolwarm', dodge=False, legend=False)\n",
    "    plt.xlabel('Crime Code 1')\n",
    "    plt.ylabel('Variation Percentage')\n",
    "    plt.title(f'Variation of Crime Types for Victim Descent: {descent} compared to White')\n",
    "    plt.xticks(rotation=90)\n",
    "    plt.show()"
   ]
  },
  {
   "cell_type": "code",
   "execution_count": null,
   "metadata": {},
   "outputs": [],
   "source": [
    "\"\"\"Ahora, una vez hemos echado un vistazo a los crímenes más comunes en Los Ángeles, vamos a centrarnos en los posibles sesgos\n",
    "que pudiesesemos cometer en nuestro análisis. Para ello, vamos a ver qué pasa si filtramos por un área en concreto\n",
    "\n",
    "\n",
    "West LA es una de las zonas con más homogeneidad demográfica de los Ángeles, \n",
    "por lo que es un buen punto de partida para analizar posibles sesgos en nuestro análisis.\n",
    "\n",
    "Soutwest es una de las zonas con más diversidad demográfica de los Ángeles, \n",
    "por lo que es un buen punto de partida para analizar posibles sesgos en nuestro análisis.\n",
    "\"\"\""
   ]
  },
  {
   "cell_type": "code",
   "execution_count": null,
   "metadata": {},
   "outputs": [],
   "source": [
    "# Filtrar los datos por el área de West LA\n",
    "west_la_df = df_base[df_base['area_name'] == 'West LA']\n",
    "\n",
    "# Verificamos qué porcentaje de los crimenes se cometen en West LA\n",
    "west_la_crimes = west_la_df.shape[0] / df_base.shape[0] * 100\n",
    "print(f'Percentage of Crimes in West LA: {west_la_crimes:.2f}%')\n",
    "\n"
   ]
  },
  {
   "cell_type": "code",
   "execution_count": null,
   "metadata": {},
   "outputs": [],
   "source": [
    "\"\"\"\n",
    "El 4.55% de los crimenes se cometen en West LA, por lo que podríamos considerarlo una muestra. Ahora, tenemos que verificar si los crímenes que se cometen en West LA son representativos de los crímenes que se cometen en Los Ángeles en general.\n",
    "\"\"\"\n",
    "\n",
    "# Calcular la distribución de los tipos de crímenes para West LA\n",
    "west_la_crimes_total = west_la_df['crm_cd_desc'].value_counts()\n",
    "west_la_crimes = west_la_crimes_total / west_la_crimes_total.sum()\n",
    "\n",
    "# Calcular la distribución de los tipos de crímenes para Los Ángeles en general\n",
    "la_crimes_total = df_base['crm_cd_desc'].value_counts()\n",
    "la_crimes = la_crimes_total / la_crimes_total.sum()\n",
    "\n",
    "# Obtener los 20 tipos de crímenes más comunes en West LA\n",
    "west_la_top_crimes = west_la_crimes.head(20)\n",
    "\n",
    "# Asegurarse de que solo se consideren los mismos crímenes en ambas zonas\n",
    "common_crimes = west_la_top_crimes.index.intersection(la_crimes.index)\n",
    "west_la_top_crimes = west_la_top_crimes[common_crimes]\n",
    "la_top_crimes = la_crimes[common_crimes]\n",
    "\n",
    "# Calcular la variación porcentual\n",
    "variation = (west_la_top_crimes - la_top_crimes) / la_top_crimes * 100\n",
    "variation = variation.dropna()\n",
    "\n",
    "# Graficar los 20 tipos de crímenes más comunes en West LA\n",
    "plt.figure(figsize=(10, 6))\n",
    "sns.barplot(x=west_la_top_crimes.values, y=west_la_top_crimes.index, palette='coolwarm')\n",
    "plt.xlabel('Proportion of Crimes')\n",
    "plt.ylabel('Crime Type')\n",
    "plt.title('Top 20 Crimes in West LA')\n",
    "plt.show()\n",
    "\n",
    "# Graficar la variación porcentual de los tipos de crímenes en West LA comparado con Los Ángeles\n",
    "plt.figure(figsize=(10, 6))\n",
    "sns.barplot(x=variation.values, y=variation.index, palette='coolwarm')\n",
    "plt.xlabel('Variation Percentage')\n",
    "plt.ylabel('Crime Type')\n",
    "plt.title('Variation of Crime Types in West LA compared to Los Angeles')\n",
    "plt.show()"
   ]
  },
  {
   "cell_type": "code",
   "execution_count": null,
   "metadata": {},
   "outputs": [],
   "source": [
    "import pandas as pd\n",
    "import matplotlib.pyplot as plt\n",
    "import seaborn as sns\n",
    "\n",
    "# Convertir la columna date_occ a formato de fecha\n",
    "df_base['date_occ'] = pd.to_datetime(df_base['date_occ'])\n",
    "\n",
    "# Extraer el año y el mes de la columna date_occ\n",
    "df_base['year_month'] = df_base['date_occ'].dt.to_period('M')\n",
    "\n",
    "#filter by max dec 2023\n",
    "df_base = df_base[df_base['year_month'] <= '2023-12']\n",
    "\n",
    "# Contar el número de crímenes por mes\n",
    "monthly_crimes = df_base['year_month'].value_counts().sort_index()\n",
    "\n",
    "# Graficar la línea de tiempo de crímenes por mes\n",
    "plt.figure(figsize=(12, 6))\n",
    "sns.lineplot(x=monthly_crimes.index.astype(str), y=monthly_crimes.values, marker='o', color='blue')\n",
    "plt.xlabel('Year-Month')\n",
    "plt.ylabel('Number of Crimes')\n",
    "plt.title('Number of Crimes through Time (Monthly)')\n",
    "plt.xticks(rotation=90)\n",
    "plt.show()"
   ]
  },
  {
   "cell_type": "markdown",
   "metadata": {},
   "source": [
    "# La importancia de la verificación de los datos"
   ]
  },
  {
   "cell_type": "code",
   "execution_count": null,
   "metadata": {},
   "outputs": [],
   "source": [
    "df_base.head()"
   ]
  },
  {
   "cell_type": "code",
   "execution_count": null,
   "metadata": {},
   "outputs": [],
   "source": [
    "# ver los estadisticos de la edad de la victima\n",
    "\n",
    "df_base['vict_age'].describe()\n",
    "\n",
    "\"\"\"\n",
    "Debemos tener en cuenta que los datos no siempre son perfectos y que pueden contener errores. Por ejemplo, la edad de la víctima no puede ser negativa,\n",
    "o destacar la excesiva edad de la victima de 120 años.\n",
    "\"\"\""
   ]
  },
  {
   "cell_type": "code",
   "execution_count": null,
   "metadata": {},
   "outputs": [],
   "source": [
    "# boxplot to vict age\n",
    "plt.figure(figsize=(10, 6))\n",
    "sns.boxplot(data=df_base, y='vict_age')\n",
    "plt.ylabel('Victim Age')\n",
    "plt.title('Boxplot of Victim Age')\n",
    "\n",
    "\n",
    "print(r\"\"\"El boxplot, o gráfico de velas, es una forma muy útil de visualizar la distribución de una variable numérica. En este caso, podemos ver que la mayoría de las víctimas tienen una edad comprendida entre los 20 y los 40 años, aunque hay algunas excepciones.\n",
    "    el cuadro azul representa el rango intercuartílico, que es el rango en el que se encuentran el 50% de las observaciones. \n",
    "    La línea intermedia del rango intercuartílico es la mediana, que es el valor que divide el conjunto de datos en dos partes iguales.\n",
    "    Las líneas exteriores del cuadro azul son los cuartiles 1 y 3, que dividen el conjunto de datos en cuatro partes iguales.\n",
    "    Después tenemos las líneas negras que salen del cuadro, que representan 1,5 veces el rango intercuartílico.\n",
    "    Por último, los puntos en los extremos representan los valores atípicos o outliers.\n",
    "\"\"\")"
   ]
  },
  {
   "cell_type": "code",
   "execution_count": null,
   "metadata": {},
   "outputs": [],
   "source": []
  }
 ],
 "metadata": {
  "kernelspec": {
   "display_name": "env_ml",
   "language": "python",
   "name": "python3"
  },
  "language_info": {
   "codemirror_mode": {
    "name": "ipython",
    "version": 3
   },
   "file_extension": ".py",
   "mimetype": "text/x-python",
   "name": "python",
   "nbconvert_exporter": "python",
   "pygments_lexer": "ipython3",
   "version": "3.11.11"
  }
 },
 "nbformat": 4,
 "nbformat_minor": 2
}
